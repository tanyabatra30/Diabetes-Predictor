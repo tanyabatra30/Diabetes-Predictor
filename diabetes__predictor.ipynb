{
  "nbformat": 4,
  "nbformat_minor": 0,
  "metadata": {
    "colab": {
      "provenance": [],
      "toc_visible": true,
      "authorship_tag": "ABX9TyMQjLU9anMIJDxuGq8XqC8x",
      "include_colab_link": true
    },
    "kernelspec": {
      "name": "python3",
      "display_name": "Python 3"
    },
    "language_info": {
      "name": "python"
    }
  },
  "cells": [
    {
      "cell_type": "markdown",
      "metadata": {
        "id": "view-in-github",
        "colab_type": "text"
      },
      "source": [
        "<a href=\"https://colab.research.google.com/github/tanyabatra30/Diabetes-Predictor/blob/main/diabetes__predictor.ipynb\" target=\"_parent\"><img src=\"https://colab.research.google.com/assets/colab-badge.svg\" alt=\"Open In Colab\"/></a>"
      ]
    },
    {
      "cell_type": "code",
      "source": [
        "import numpy as np\n",
        "import pickle\n",
        "import streamlit as st\n",
        "import sklearn"
      ],
      "metadata": {
        "id": "Fdt1tqde2-zC"
      },
      "execution_count": 53,
      "outputs": []
    },
    {
      "cell_type": "code",
      "source": [
        "loaded_model = pickle.load(open('sample_diabetes_model.sav', 'rb'))\n"
      ],
      "metadata": {
        "id": "hP3byGXE3DH2"
      },
      "execution_count": 54,
      "outputs": []
    },
    {
      "cell_type": "code",
      "source": [
        "\n",
        "#creating a func for prediction\n",
        "\n",
        "# Function for prediction\n",
        "def diabetes_prediction(input_data):\n",
        "    try:\n",
        "        # Changing the input_data to numpy array\n",
        "        input_data_as_numpy_array = np.asarray(input_data, dtype=float)\n",
        "\n",
        "        # Reshape the array as we are predicting for one instance\n",
        "        input_data_reshaped = input_data_as_numpy_array.reshape(1, -1)\n",
        "\n",
        "        prediction = loaded_model.predict(input_data_reshaped)\n",
        "        print(prediction)\n",
        "\n",
        "        if prediction[0] == 0:\n",
        "            return 'The person is not diabetic.'\n",
        "        else:\n",
        "            return 'The person is diabetic.'\n",
        "    except Exception as e:\n",
        "        st.error(f\"Error during prediction: {e}\")\n",
        "        return None"
      ],
      "metadata": {
        "id": "oY3Y4sER3EH6"
      },
      "execution_count": 55,
      "outputs": []
    },
    {
      "cell_type": "code",
      "source": [
        "def main():\n",
        "\n",
        "    #title\n",
        "    st.title(\"Diabetes Prediction Web App\")\n",
        "\n",
        "    # getting the input data from the user\n",
        "    Pregnancies = st.text_input('Number of Pregnancies')\n",
        "    Glucose = st.text_input('Glucose Level')\n",
        "    BloodPressure = st.text_input('Blood Pressure value')\n",
        "    SkinThickness = st.text_input('Skin Thickness value')\n",
        "    Insulin = st.text_input('Insulin Level')\n",
        "    BMI = st.text_input('BMI value')\n",
        "    DiabetesPedigreeFunction = st.text_input('Diabetes Pedigree Function value')\n",
        "    Age = st.text_input('Age of the Person')\n",
        "\n",
        "\n",
        "    # code for Prediction\n",
        "    diagnosis = ''\n",
        "\n",
        "    # creating a button for Prediction\n",
        "\n",
        "    if st.button('Diabetes Test Result'):\n",
        "        diagnosis = diabetes_prediction([Pregnancies, Glucose, BloodPressure, SkinThickness, Insulin, BMI, DiabetesPedigreeFunction, Age])\n",
        "\n",
        "\n",
        "    st.success(diagnosis)"
      ],
      "metadata": {
        "id": "Nnnq8UFv3P2e"
      },
      "execution_count": 56,
      "outputs": []
    },
    {
      "cell_type": "code",
      "source": [
        "if __name__ == '__main__':\n",
        "    main()\n"
      ],
      "metadata": {
        "id": "G_4I2sbC3cv6"
      },
      "execution_count": 57,
      "outputs": []
    },
    {
      "cell_type": "code",
      "source": [
        "import numpy as np\n",
        "import pickle\n",
        "import sklearn"
      ],
      "metadata": {
        "id": "pNaOuOql3gLI"
      },
      "execution_count": 58,
      "outputs": []
    },
    {
      "cell_type": "code",
      "source": [
        "loaded_model = pickle.load(open('sample_diabetes_model.sav', 'rb'))"
      ],
      "metadata": {
        "id": "Dn5qJaZv3y0w"
      },
      "execution_count": 59,
      "outputs": []
    },
    {
      "cell_type": "code",
      "source": [
        "input_data = (5,166,72,19,175,25.8,0.587,51)"
      ],
      "metadata": {
        "id": "6vQB475d34Be"
      },
      "execution_count": 60,
      "outputs": []
    },
    {
      "cell_type": "code",
      "source": [
        "# changing the input_data to numpy array\n",
        "input_data_as_numpy_array = np.asarray(input_data)"
      ],
      "metadata": {
        "id": "pgXPLq7M35Hy"
      },
      "execution_count": 61,
      "outputs": []
    },
    {
      "cell_type": "code",
      "source": [
        "# reshape the array as we are predicting for one instance\n",
        "input_data_reshaped = input_data_as_numpy_array.reshape(1,-1)\n"
      ],
      "metadata": {
        "id": "cGTDcA_137rd"
      },
      "execution_count": 62,
      "outputs": []
    },
    {
      "cell_type": "code",
      "source": [
        "prediction = loaded_model.predict(input_data_reshaped)\n",
        "print(prediction)\n"
      ],
      "metadata": {
        "colab": {
          "base_uri": "https://localhost:8080/"
        },
        "id": "-4sFythk3-Rj",
        "outputId": "1f12d14c-874b-43e3-bb14-ba6704717557"
      },
      "execution_count": 63,
      "outputs": [
        {
          "output_type": "stream",
          "name": "stdout",
          "text": [
            "[1]\n"
          ]
        }
      ]
    },
    {
      "cell_type": "code",
      "source": [
        "if (prediction[0] == 0):\n",
        "  print('The person is not diabetic.')\n",
        "else:\n",
        "  print('The person is diabetic.')\n"
      ],
      "metadata": {
        "colab": {
          "base_uri": "https://localhost:8080/"
        },
        "id": "Q4CGzdnM4AwK",
        "outputId": "b1892ee9-f2fa-4b75-fa73-56ed5a02a713"
      },
      "execution_count": 64,
      "outputs": [
        {
          "output_type": "stream",
          "name": "stdout",
          "text": [
            "The person is diabetic.\n"
          ]
        }
      ]
    }
  ]
}